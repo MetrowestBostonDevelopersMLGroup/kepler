{
 "cells": [
  {
   "cell_type": "code",
   "execution_count": null,
   "id": "448a48bf-6b23-42db-b81a-e43ed6dc57a6",
   "metadata": {},
   "outputs": [],
   "source": [
    "import json\n",
    "import pandas as pd\n",
    "import numpy as np\n",
    "\n",
    "from sentence_transformers import util"
   ]
  },
  {
   "cell_type": "code",
   "execution_count": null,
   "id": "7e377528-5ee4-4246-a29f-c0ebbeab0a29",
   "metadata": {},
   "outputs": [],
   "source": [
    "INSTALL = False"
   ]
  },
  {
   "cell_type": "markdown",
   "id": "f7a1956e-e6a1-422d-bd94-3fae5e07788f",
   "metadata": {},
   "source": [
    "# Data Load"
   ]
  },
  {
   "cell_type": "code",
   "execution_count": null,
   "id": "b214b617-0d61-4191-a560-55ca6905c444",
   "metadata": {},
   "outputs": [],
   "source": [
    "def load_tmdb_movies(path):\n",
    "    df = pd.read_csv(path)\n",
    "    df['release_date'] = pd.to_datetime(df['release_date']).apply(lambda x: x.date())\n",
    "    json_columns = ['genres', 'keywords', 'production_countries', 'production_companies', 'spoken_languages']\n",
    "    for column in json_columns:\n",
    "        df[column] = df[column].apply(json.loads)\n",
    "    return df\n",
    "\n",
    "\n",
    "def load_tmdb_credits(path):\n",
    "    df = pd.read_csv(path)\n",
    "    json_columns = ['cast', 'crew']\n",
    "    for column in json_columns:\n",
    "        df[column] = df[column].apply(json.loads)\n",
    "    return df"
   ]
  },
  {
   "cell_type": "code",
   "execution_count": null,
   "id": "57ef6539-f98a-4cfe-8224-6dc360a732df",
   "metadata": {},
   "outputs": [],
   "source": [
    "movies = load_tmdb_movies(\"./upload/tmdb_5000_movies.csv\")\n",
    "credits = load_tmdb_credits(\"./upload/tmdb_5000_credits.csv\")"
   ]
  },
  {
   "cell_type": "code",
   "execution_count": null,
   "id": "eec15e00-12a6-4919-bcd6-ca0cbcdfeac3",
   "metadata": {},
   "outputs": [],
   "source": [
    "movies.info()"
   ]
  },
  {
   "cell_type": "code",
   "execution_count": null,
   "id": "7ec2d548-f04f-47fe-ad3a-af6d7431ded1",
   "metadata": {},
   "outputs": [],
   "source": [
    "credits.info()"
   ]
  },
  {
   "cell_type": "code",
   "execution_count": null,
   "id": "7251e561-499b-42a1-8999-b744e9b9eb84",
   "metadata": {},
   "outputs": [],
   "source": [
    "movies[movies['overview'].isnull()]"
   ]
  },
  {
   "cell_type": "code",
   "execution_count": null,
   "id": "eb987c85-5a6e-4c81-be08-ad44c201d18e",
   "metadata": {},
   "outputs": [],
   "source": [
    "movies.loc[0]"
   ]
  },
  {
   "cell_type": "code",
   "execution_count": null,
   "id": "173aa2df-1f9f-4a7d-8c66-e2f07c7978a3",
   "metadata": {},
   "outputs": [],
   "source": [
    "movies['keywords_txt'] = movies.loc[:,'keywords'].apply(lambda x: ' '.join([d['name'].lower() for d in x]))\n",
    "movies['genres_txt'] = movies.loc[:,'genres'].apply(lambda x: ' '.join([d['name'].lower() for d in x]))\n",
    "movies['overview'] = movies['overview'].str.lower()"
   ]
  },
  {
   "cell_type": "code",
   "execution_count": null,
   "id": "72603d28-d9eb-44dc-9546-3355095566a4",
   "metadata": {},
   "outputs": [],
   "source": [
    "keyword_corpus = set(' '.join(movies['keywords_txt'].values).split())\n",
    "genres_corpus = set(' '.join(movies['genres_txt'].values).split())\n",
    "overview_corpus = set(' '.join(movies['overview'].astype('str').values).split())"
   ]
  },
  {
   "cell_type": "code",
   "execution_count": null,
   "id": "9a31ff66-77d9-43af-a5e7-a0b889c5342d",
   "metadata": {},
   "outputs": [],
   "source": [
    "embed = movies.loc[:, ['id', 'title']].copy()\n",
    "embed.columns = pd.MultiIndex.from_tuples([('id', ''), ('title', '')])"
   ]
  },
  {
   "cell_type": "code",
   "execution_count": null,
   "id": "85ddec5d-620d-4c5e-8f33-79238905fd23",
   "metadata": {},
   "outputs": [],
   "source": [
    "user_input = 'alien sci-fi space horror'"
   ]
  },
  {
   "cell_type": "markdown",
   "id": "5280e190-4ab2-46fc-bacf-e87159f2ee49",
   "metadata": {},
   "source": [
    "# Word2Vec"
   ]
  },
  {
   "cell_type": "code",
   "execution_count": null,
   "id": "96cb701e-bd4a-4445-b4ce-518db9609e20",
   "metadata": {
    "collapsed": false,
    "jupyter": {
     "outputs_hidden": false
    }
   },
   "outputs": [],
   "source": [
    "if INSTALL:\n",
    "    !pip install gensim\n",
    "\n",
    "import gensim.downloader as api\n",
    "wv = api.load('word2vec-google-news-300')"
   ]
  },
  {
   "cell_type": "code",
   "execution_count": null,
   "id": "9641f708-e968-48f8-8658-c431221e2fdb",
   "metadata": {},
   "outputs": [],
   "source": [
    "def word2vecEmb(kws):\n",
    "    if kws:\n",
    "        emb = np.array([wv[kw] if kw in wv else np.zeros(300) for kw in kws.split()])\n",
    "        if emb.size == 0:\n",
    "            return np.zeros(300).astype('float32')\n",
    "        else:\n",
    "            return emb.mean(axis=0).astype('float32')\n",
    "    else:\n",
    "        return np.zeros(300).astype('float32')"
   ]
  },
  {
   "cell_type": "code",
   "execution_count": null,
   "id": "95c16c15-923a-4e28-9041-3cbfda7371a6",
   "metadata": {},
   "outputs": [],
   "source": [
    "%%time\n",
    "embed[('Word2Vec', 'keywords_emb')] = movies['keywords_txt'].astype('str').apply(word2vecEmb)\n",
    "embed[('Word2Vec', 'genres_emb')] = movies['genres_txt'].astype('str').apply(word2vecEmb)\n",
    "embed[('Word2Vec', 'overview_emb')] = movies['overview'].astype('str').apply(word2vecEmb)"
   ]
  },
  {
   "cell_type": "code",
   "execution_count": null,
   "id": "0889d9ec-23c4-482e-ade0-d6bf9d675e98",
   "metadata": {},
   "outputs": [],
   "source": [
    "wv_inp = np.array([wv[kw] for kw in user_input.split() if kw in wv]).mean(axis=0)"
   ]
  },
  {
   "cell_type": "code",
   "execution_count": null,
   "id": "a1b85233-681b-4ce3-bcb9-d729ea9af495",
   "metadata": {},
   "outputs": [],
   "source": [
    "embed[('Word2Vec', 'keyword_sim')] = util.cos_sim(wv_inp, embed[('Word2Vec', 'keywords_emb')]).numpy().squeeze()\n",
    "embed[('Word2Vec', 'genres_sim')] = util.cos_sim(wv_inp, embed[('Word2Vec', 'genres_emb')]).numpy().squeeze()\n",
    "embed[('Word2Vec', 'overview_sim')] = util.cos_sim(wv_inp, embed[('Word2Vec', 'overview_emb')]).numpy().squeeze()"
   ]
  },
  {
   "cell_type": "code",
   "execution_count": null,
   "id": "0911f0ab-338b-4d8e-b231-ada04d59e86a",
   "metadata": {},
   "outputs": [],
   "source": [
    "wv_kw = set([wd for wd in keyword_corpus if wd in wv])\n",
    "wv_ge = set([wd for wd in genres_corpus if wd in wv])\n",
    "wv_ov = set([wd for wd in overview_corpus if wd in wv])"
   ]
  },
  {
   "cell_type": "code",
   "execution_count": null,
   "id": "1872f442-3a0e-49a0-a161-a68e6b70f8be",
   "metadata": {},
   "outputs": [],
   "source": [
    "wi = pd.DataFrame({\n",
    "    'Factor': ['Keywords', 'Genres', 'Overviews'],\n",
    "    'Total': [len(keyword_corpus), len(genres_corpus), len(overview_corpus)],\n",
    "    'In Word2Vec' : [len(wv_kw), len(wv_ge), len(wv_ov)],\n",
    "    'Word2Vec%' : [len(wv_kw)/len(keyword_corpus)*100, len(wv_ge)/len(genres_corpus)*100, len(wv_ov)/len(overview_corpus)*100]\n",
    "})"
   ]
  },
  {
   "cell_type": "code",
   "execution_count": null,
   "id": "84aca819-c7d2-43cb-beca-550b1d405008",
   "metadata": {},
   "outputs": [],
   "source": [
    "with pd.option_context('float_format', '{:,.1f}%'.format):\n",
    "    display(wi.style.hide_index())"
   ]
  },
  {
   "cell_type": "code",
   "execution_count": null,
   "id": "35d58282-3043-43bd-8bef-098773b10436",
   "metadata": {},
   "outputs": [],
   "source": [
    "embed.loc[:, [('title', ''), \n",
    "              ('Word2Vec', 'keyword_sim'), \n",
    "              ('Word2Vec', 'genres_sim'), \n",
    "              ('Word2Vec', 'overview_sim')]]\\\n",
    "    .nlargest(10, ('Word2Vec', 'keyword_sim'))\\\n",
    "    .style.background_gradient(vmin=-1.0, vmax=1.0)\\\n",
    "    .hide_index()"
   ]
  },
  {
   "cell_type": "code",
   "execution_count": null,
   "id": "0f1c1a75-3c73-47f0-bd30-3d9f8323df76",
   "metadata": {},
   "outputs": [],
   "source": [
    "del wv"
   ]
  },
  {
   "cell_type": "markdown",
   "id": "03b0fdbd-91b7-41e8-aea2-4a9bdb94a554",
   "metadata": {},
   "source": [
    "# Glove"
   ]
  },
  {
   "cell_type": "code",
   "execution_count": null,
   "id": "f35c627e-ae53-43b2-9f65-79c3dedca717",
   "metadata": {},
   "outputs": [],
   "source": [
    "if INSTALL:\n",
    "    !curl.exe -o glove.6B.zip https://nlp.stanford.edu/data/glove.6B.zip"
   ]
  },
  {
   "cell_type": "code",
   "execution_count": null,
   "id": "ae80d23b-7852-46e5-af83-613c23586942",
   "metadata": {},
   "outputs": [],
   "source": [
    "import csv\n",
    "glove = pd.read_csv(\"glove/glove.6B.50d.txt\", encoding=\"utf8\", sep=\" \", quoting=csv.QUOTE_NONE, header=None)\n",
    "glove.columns = ['word'] + ['v' + str(x) for x in range(50)]\n",
    "glove = glove.set_index('word')"
   ]
  },
  {
   "cell_type": "code",
   "execution_count": null,
   "id": "b95303b0-612f-42c4-b2b1-c44d17baa57d",
   "metadata": {},
   "outputs": [],
   "source": [
    "%%time\n",
    "kw_ix = ('Glove', 'keywords_emb')\n",
    "ge_ix = ('Glove', 'genres_emb')\n",
    "ov_ix = ('Glove', 'overview_emb')\n",
    "\n",
    "kw = movies['keywords_txt'].str.split(expand=True).stack().reset_index()\n",
    "kw.columns = ['idx', 'cnt', 'word']\n",
    "kw = kw.merge(glove, how='left', left_on='word', right_index=True).groupby('idx').mean().drop(columns='cnt')\n",
    "\n",
    "ge = movies['genres_txt'].str.split(expand=True).stack().reset_index()\n",
    "ge.columns = ['idx', 'cnt', 'word']\n",
    "ge = ge.merge(glove, how='left', left_on='word', right_index=True).groupby('idx').mean().drop(columns='cnt')\n",
    "\n",
    "ov = movies['overview'].str.split(expand=True).stack().reset_index()\n",
    "ov.columns = ['idx', 'cnt', 'word']\n",
    "ov = ov.merge(glove, how='left', left_on='word', right_index=True).groupby('idx').mean().drop(columns='cnt')\n",
    "\n",
    "embed[kw_ix] = kw.apply(lambda row: np.array(row.values, dtype='float32'), axis=1)\n",
    "embed[ge_ix] = ge.apply(lambda row: np.array(row.values, dtype='float32'), axis=1)\n",
    "embed[ov_ix] = ov.apply(lambda row: np.array(row.values, dtype='float32'), axis=1)"
   ]
  },
  {
   "cell_type": "code",
   "execution_count": null,
   "id": "fdbfd4cb-0f4a-440a-a3c4-e03afa6800e2",
   "metadata": {},
   "outputs": [],
   "source": [
    "embed.loc[embed[kw_ix].isnull(), kw_ix] = \\\n",
    "    embed.loc[embed[kw_ix].isnull(), kw_ix].apply(lambda x: tuple([0.0] * 50)).apply(np.array, dtype='float32')\n",
    "embed.loc[embed[ge_ix].isnull(), ge_ix] = \\\n",
    "    embed.loc[embed[ge_ix].isnull(), ge_ix].apply(lambda x: tuple([0.0] * 50)).apply(np.array, dtype='float32')\n",
    "embed.loc[embed[ov_ix].isnull(), ov_ix] = \\\n",
    "    embed.loc[embed[ov_ix].isnull(), ov_ix].apply(lambda x: tuple([0.0] * 50)).apply(np.array, dtype='float32')"
   ]
  },
  {
   "cell_type": "code",
   "execution_count": null,
   "id": "15efdc82-74fc-42cf-b9a5-90eedb3437e7",
   "metadata": {},
   "outputs": [],
   "source": [
    "glove_inp = glove.loc[user_input.split()].mean().values.astype('float32')"
   ]
  },
  {
   "cell_type": "code",
   "execution_count": null,
   "id": "6f35fce0-e65a-488d-ae47-68d29a36cfb9",
   "metadata": {},
   "outputs": [],
   "source": [
    "embed[('Glove', 'keyword_sim')] = util.cos_sim(glove_inp, embed[('Glove', 'keywords_emb')]).numpy().squeeze()\n",
    "embed[('Glove', 'genres_sim')] = util.cos_sim(glove_inp, embed[('Glove', 'genres_emb')]).numpy().squeeze()\n",
    "embed[('Glove', 'overview_sim')] = util.cos_sim(glove_inp, embed[('Glove', 'overview_emb')]).numpy().squeeze()"
   ]
  },
  {
   "cell_type": "code",
   "execution_count": null,
   "id": "142b8398-93a3-41ab-8748-2e0ae5c6e138",
   "metadata": {},
   "outputs": [],
   "source": [
    "gl_kw = set([wd for wd in keyword_corpus if wd in glove.index])\n",
    "gl_ge = set([wd for wd in genres_corpus if wd in glove.index])\n",
    "gl_ov = set([wd for wd in overview_corpus if wd in glove.index])"
   ]
  },
  {
   "cell_type": "code",
   "execution_count": null,
   "id": "05d3085f-18eb-429e-949f-1f7141fc6d5a",
   "metadata": {},
   "outputs": [],
   "source": [
    "wi['In Glove'] = [len(gl_kw), len(gl_ge), len(gl_ov)]\n",
    "wi['Glove%'] = [len(gl_kw)/len(keyword_corpus)*100, len(gl_ge)/len(genres_corpus)*100, len(gl_ov)/len(overview_corpus)*100]"
   ]
  },
  {
   "cell_type": "code",
   "execution_count": null,
   "id": "967265e7-6765-4627-a7a6-297dc1c90536",
   "metadata": {},
   "outputs": [],
   "source": [
    "with pd.option_context('float_format', '{:,.1f}%'.format):\n",
    "    display(wi.style.hide_index())"
   ]
  },
  {
   "cell_type": "code",
   "execution_count": null,
   "id": "850c5e33-59a5-4c39-83d4-18b45092ac26",
   "metadata": {},
   "outputs": [],
   "source": [
    "embed.loc[:, [('title', ''), \n",
    "              ('Word2Vec', 'keyword_sim'), \n",
    "              ('Word2Vec', 'genres_sim'), \n",
    "              ('Word2Vec', 'overview_sim'),\n",
    "              ('Glove', 'keyword_sim'), \n",
    "              ('Glove', 'genres_sim'), \n",
    "              ('Glove', 'overview_sim')]]\\\n",
    "    .nlargest(10, ('Glove', 'keyword_sim'))\\\n",
    "    .style.background_gradient(vmin=-1.0, vmax=1.0)\\\n",
    "    .hide_index()"
   ]
  },
  {
   "cell_type": "markdown",
   "id": "bb0e5b6e-7e7b-4294-a265-62e28c376a09",
   "metadata": {},
   "source": [
    "# Sentence Transformer (BERT)"
   ]
  },
  {
   "cell_type": "code",
   "execution_count": null,
   "id": "04f6ea04-df39-4f58-8ea1-c76b59aef65a",
   "metadata": {},
   "outputs": [],
   "source": [
    "from sentence_transformers import SentenceTransformer\n",
    "sentTrans = SentenceTransformer('paraphrase-MiniLM-L6-v2')"
   ]
  },
  {
   "cell_type": "code",
   "execution_count": null,
   "id": "d050b242-d0ad-419c-837d-be32684678ec",
   "metadata": {},
   "outputs": [],
   "source": [
    "%%time\n",
    "embed[('sentTrans', 'keywords_emb')] = list(sentTrans.encode(movies['keywords_txt'].astype('str')))\n",
    "embed[('sentTrans', 'genres_emb')] = list(sentTrans.encode(movies['genres_txt'].astype('str')))\n",
    "embed[('sentTrans', 'overview_emb')] = list(sentTrans.encode(movies['overview'].astype('str')))"
   ]
  },
  {
   "cell_type": "code",
   "execution_count": null,
   "id": "cee28fa6-99db-4519-b8e9-16a5dfbff565",
   "metadata": {},
   "outputs": [],
   "source": [
    "st_inp = sentTrans.encode(user_input)"
   ]
  },
  {
   "cell_type": "code",
   "execution_count": null,
   "id": "fe63cee2-d92a-4da0-b2ba-a40a6b8ec7f0",
   "metadata": {},
   "outputs": [],
   "source": [
    "embed[('sentTrans', 'keyword_sim')] = util.cos_sim(st_inp, embed[('sentTrans', 'keywords_emb')]).numpy().squeeze()\n",
    "embed[('sentTrans', 'genres_sim')] = util.cos_sim(st_inp, embed[('sentTrans', 'genres_emb')]).numpy().squeeze()\n",
    "embed[('sentTrans', 'overview_sim')] = util.cos_sim(st_inp, embed[('sentTrans', 'overview_emb')]).numpy().squeeze()"
   ]
  },
  {
   "cell_type": "code",
   "execution_count": null,
   "id": "0dad2ac6-0ae0-466a-9c2f-c8c4550fa675",
   "metadata": {},
   "outputs": [],
   "source": [
    "embed.loc[:, [('title', ''), \n",
    "              ('Word2Vec', 'keyword_sim'), \n",
    "              ('Word2Vec', 'genres_sim'), \n",
    "              ('Word2Vec', 'overview_sim'),\n",
    "              ('Glove', 'keyword_sim'), \n",
    "              ('Glove', 'genres_sim'), \n",
    "              ('Glove', 'overview_sim'),\n",
    "              ('sentTrans', 'keyword_sim'), \n",
    "              ('sentTrans', 'genres_sim'), \n",
    "              ('sentTrans', 'overview_sim')]]\\\n",
    "    .nlargest(10, ('sentTrans', 'keyword_sim'))\\\n",
    "    .style.background_gradient(vmin=-1.0, vmax=1.0)\\\n",
    "    .hide_index()"
   ]
  },
  {
   "cell_type": "code",
   "execution_count": null,
   "id": "8a24b106-6fa9-4666-8547-da9748750ef7",
   "metadata": {},
   "outputs": [],
   "source": [
    "del sentTrans"
   ]
  },
  {
   "cell_type": "markdown",
   "id": "469172dc-f8c7-4125-a3e7-db2db1e41b88",
   "metadata": {},
   "source": [
    "# InferSent (Facebook)"
   ]
  },
  {
   "cell_type": "code",
   "execution_count": null,
   "id": "8864bd40-a8d9-497c-b326-5367a9f4ca7a",
   "metadata": {},
   "outputs": [],
   "source": [
    "if INSTALL:\n",
    "    !git clone https://github.com/facebookresearch/InferSent\n",
    "    !copy InferSent\\models.py ."
   ]
  },
  {
   "cell_type": "code",
   "execution_count": null,
   "id": "f12dcbf1-d745-4da3-9027-8c755e9d9218",
   "metadata": {},
   "outputs": [],
   "source": [
    "import nltk\n",
    "import torch\n",
    "nltk.download('punkt')"
   ]
  },
  {
   "cell_type": "code",
   "execution_count": null,
   "id": "bfdc8137-06e8-443b-98e8-0d38a9c7223a",
   "metadata": {},
   "outputs": [],
   "source": [
    "from models import InferSent\n",
    "V = 2\n",
    "MODEL_PATH = 'encoder/infersent%s.pkl' % V\n",
    "params_model = {'bsize': 64, 'word_emb_dim': 300, 'enc_lstm_dim': 2048,\n",
    "                'pool_type': 'max', 'dpout_model': 0.0, 'version': V}\n",
    "infersent = InferSent(params_model)\n",
    "infersent.load_state_dict(torch.load(MODEL_PATH))"
   ]
  },
  {
   "cell_type": "code",
   "execution_count": null,
   "id": "4b693995-4813-4881-b283-c52a54b5de57",
   "metadata": {},
   "outputs": [],
   "source": [
    "W2V_PATH = 'fastText/crawl-300d-2M.vec'\n",
    "infersent.set_w2v_path(W2V_PATH)"
   ]
  },
  {
   "cell_type": "code",
   "execution_count": null,
   "id": "14ef3868-d037-4e2c-8cc9-0f04c08cb815",
   "metadata": {},
   "outputs": [],
   "source": [
    "# infersent.build_vocab_k_words(K=400000)\n",
    "infersent.build_vocab(keyword_corpus | genres_corpus | overview_corpus)"
   ]
  },
  {
   "cell_type": "code",
   "execution_count": null,
   "id": "84b4c6af-dab5-4e58-ad83-84032aa5e1f1",
   "metadata": {},
   "outputs": [],
   "source": [
    "%%time\n",
    "embed[('InferSent', 'keywords_emb')] = list(infersent.encode(movies.loc[:, 'keywords_txt'].astype('str').values, tokenize=True))\n",
    "embed[('InferSent', 'genres_emb')] = list(infersent.encode(movies.loc[:, 'genres_txt'].astype('str').values, tokenize=True))\n",
    "embed[('InferSent', 'overview_emb')] = list(infersent.encode(movies.loc[:, 'overview'].astype('str').values, tokenize=True))"
   ]
  },
  {
   "cell_type": "code",
   "execution_count": null,
   "id": "8521894a-cf1e-4d0f-8e89-3f5c2c763ed3",
   "metadata": {},
   "outputs": [],
   "source": [
    "inp = infersent.encode(['alien sci-fi space horror'], tokenize=True)\n",
    "inp.shape"
   ]
  },
  {
   "cell_type": "code",
   "execution_count": null,
   "id": "732c9cc4-c511-4960-8896-6dbcbd63395e",
   "metadata": {},
   "outputs": [],
   "source": [
    "embed[('InferSent', 'keyword_sim')] = util.cos_sim(inp, embed[('InferSent', 'keywords_emb')]).numpy().squeeze()\n",
    "embed[('InferSent', 'genres_sim')] = util.cos_sim(inp, embed[('InferSent', 'genres_emb')]).numpy().squeeze()\n",
    "embed[('InferSent', 'overview_sim')] = util.cos_sim(inp, embed[('InferSent', 'overview_emb')]).numpy().squeeze()"
   ]
  },
  {
   "cell_type": "code",
   "execution_count": null,
   "id": "aa69e113-84fe-4ac2-acf6-6a55ede5af49",
   "metadata": {},
   "outputs": [],
   "source": [
    "%%time\n",
    "in_kw = set([wd for wd in keyword_corpus if wd in infersent.word_vec])\n",
    "in_ge = set([wd for wd in genres_corpus if wd in infersent.word_vec])\n",
    "in_ov = set([wd for wd in overview_corpus if wd in infersent.word_vec])"
   ]
  },
  {
   "cell_type": "code",
   "execution_count": null,
   "id": "c1096ec2-e5c2-4415-b46a-33881bedc814",
   "metadata": {},
   "outputs": [],
   "source": [
    "wi['In InferSent'] = [len(in_kw), len(in_ge), len(in_ov)]\n",
    "wi['InferSent%'] = [len(in_kw)/len(keyword_corpus)*100, len(in_ge)/len(genres_corpus)*100, len(in_ov)/len(overview_corpus)*100]"
   ]
  },
  {
   "cell_type": "code",
   "execution_count": null,
   "id": "ef70fa4c-ddf0-453a-b51b-21cf40cfe5c6",
   "metadata": {},
   "outputs": [],
   "source": [
    "with pd.option_context('float_format', '{:,.1f}%'.format):\n",
    "    display(wi.style.hide_index())"
   ]
  },
  {
   "cell_type": "code",
   "execution_count": null,
   "id": "9a1fac8c-8a2e-4a3d-a307-b4b255ede684",
   "metadata": {},
   "outputs": [],
   "source": [
    "embed.loc[:, [('title', ''), \n",
    "              ('Word2Vec', 'keyword_sim'), \n",
    "              ('Word2Vec', 'genres_sim'), \n",
    "              ('Word2Vec', 'overview_sim'),\n",
    "              ('Glove', 'keyword_sim'), \n",
    "              ('Glove', 'genres_sim'), \n",
    "              ('Glove', 'overview_sim'),\n",
    "              ('sentTrans', 'keyword_sim'), \n",
    "              ('sentTrans', 'genres_sim'), \n",
    "              ('sentTrans', 'overview_sim'),\n",
    "              ('InferSent', 'keyword_sim'), \n",
    "              ('InferSent', 'genres_sim'), \n",
    "              ('InferSent', 'overview_sim')]]\\\n",
    "    .nlargest(10, ('InferSent', 'keyword_sim'))\\\n",
    "    .style.background_gradient(vmin=-1.0, vmax=1.0)\\\n",
    "    .hide_index()"
   ]
  },
  {
   "cell_type": "code",
   "execution_count": null,
   "id": "779ff9c5-2c45-44f6-a9a0-c4af73835f3a",
   "metadata": {},
   "outputs": [],
   "source": [
    "del infersent"
   ]
  }
 ],
 "metadata": {
  "kernelspec": {
   "display_name": "Python 3",
   "language": "python",
   "name": "python3"
  },
  "language_info": {
   "codemirror_mode": {
    "name": "ipython",
    "version": 3
   },
   "file_extension": ".py",
   "mimetype": "text/x-python",
   "name": "python",
   "nbconvert_exporter": "python",
   "pygments_lexer": "ipython3",
   "version": "3.9.5"
  }
 },
 "nbformat": 4,
 "nbformat_minor": 5
}
