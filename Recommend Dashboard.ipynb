{
 "cells": [
  {
   "cell_type": "code",
   "execution_count": null,
   "id": "448a48bf-6b23-42db-b81a-e43ed6dc57a6",
   "metadata": {},
   "outputs": [],
   "source": [
    "import json\n",
    "import pandas as pd\n",
    "import numpy as np\n",
    "import matplotlib.pyplot as plt\n",
    "\n",
    "from sentence_transformers import util"
   ]
  },
  {
   "cell_type": "code",
   "execution_count": null,
   "id": "7e377528-5ee4-4246-a29f-c0ebbeab0a29",
   "metadata": {},
   "outputs": [],
   "source": [
    "INSTALL = False"
   ]
  },
  {
   "cell_type": "markdown",
   "id": "f7a1956e-e6a1-422d-bd94-3fae5e07788f",
   "metadata": {},
   "source": [
    "# Data Load"
   ]
  },
  {
   "cell_type": "code",
   "execution_count": null,
   "id": "b214b617-0d61-4191-a560-55ca6905c444",
   "metadata": {},
   "outputs": [],
   "source": [
    "def load_tmdb_movies(path):\n",
    "    df = pd.read_csv(path)\n",
    "    df['release_date'] = pd.to_datetime(df['release_date']).apply(lambda x: x.date())\n",
    "    json_columns = ['genres', 'keywords', 'production_countries', 'production_companies', 'spoken_languages']\n",
    "    for column in json_columns:\n",
    "        df[column] = df[column].apply(json.loads)\n",
    "    return df\n",
    "\n",
    "\n",
    "def load_tmdb_credits(path):\n",
    "    df = pd.read_csv(path)\n",
    "    json_columns = ['cast', 'crew']\n",
    "    for column in json_columns:\n",
    "        df[column] = df[column].apply(json.loads)\n",
    "    return df"
   ]
  },
  {
   "cell_type": "code",
   "execution_count": null,
   "id": "57ef6539-f98a-4cfe-8224-6dc360a732df",
   "metadata": {},
   "outputs": [],
   "source": [
    "movies = load_tmdb_movies(\"./upload/tmdb_5000_movies.csv\")\n",
    "# credits = load_tmdb_credits(\"./upload/tmdb_5000_credits.csv\")"
   ]
  },
  {
   "cell_type": "code",
   "execution_count": null,
   "id": "eec15e00-12a6-4919-bcd6-ca0cbcdfeac3",
   "metadata": {},
   "outputs": [],
   "source": [
    "movies.info()"
   ]
  },
  {
   "cell_type": "code",
   "execution_count": null,
   "id": "eb987c85-5a6e-4c81-be08-ad44c201d18e",
   "metadata": {},
   "outputs": [],
   "source": [
    "movies.loc[0]"
   ]
  },
  {
   "cell_type": "code",
   "execution_count": null,
   "id": "173aa2df-1f9f-4a7d-8c66-e2f07c7978a3",
   "metadata": {},
   "outputs": [],
   "source": [
    "movies['keywords_txt'] = movies.loc[:,'keywords'].apply(lambda x: ' '.join([d['name'].lower() for d in x]))\n",
    "movies['genres_txt'] = movies.loc[:,'genres'].apply(lambda x: ' '.join([d['name'].lower() for d in x]))\n",
    "movies['overview'] = movies['overview'].str.lower()"
   ]
  },
  {
   "cell_type": "code",
   "execution_count": null,
   "id": "72603d28-d9eb-44dc-9546-3355095566a4",
   "metadata": {},
   "outputs": [],
   "source": [
    "keyword_corpus = set(' '.join(movies['keywords_txt'].values).split())\n",
    "genres_corpus = set(' '.join(movies['genres_txt'].values).split())\n",
    "overview_corpus = set(' '.join(movies['overview'].astype('str').values).split())"
   ]
  },
  {
   "cell_type": "code",
   "execution_count": null,
   "id": "9a31ff66-77d9-43af-a5e7-a0b889c5342d",
   "metadata": {},
   "outputs": [],
   "source": [
    "embed = movies.loc[:, ['id', 'title']].copy()\n",
    "embed.columns = pd.MultiIndex.from_tuples([('id', ''), ('title', '')])"
   ]
  },
  {
   "cell_type": "markdown",
   "id": "6031120a-5403-4a04-8c11-f659a0f91550",
   "metadata": {},
   "source": [
    "# Explore Input Factors"
   ]
  },
  {
   "cell_type": "code",
   "execution_count": null,
   "id": "92f078ad-e2d5-4047-a090-5ba4a1139acb",
   "metadata": {},
   "outputs": [],
   "source": [
    "movies.loc[0, 'keywords_txt']"
   ]
  },
  {
   "cell_type": "code",
   "execution_count": null,
   "id": "b2204b1c-a95f-4424-a4b5-d3041609b58a",
   "metadata": {},
   "outputs": [],
   "source": [
    "movies.loc[0, 'keywords']"
   ]
  },
  {
   "cell_type": "code",
   "execution_count": null,
   "id": "59c6a391-897d-4eae-b54b-bdb0c06c7f16",
   "metadata": {},
   "outputs": [],
   "source": [
    "movies.loc[0, 'genres']"
   ]
  },
  {
   "cell_type": "code",
   "execution_count": null,
   "id": "70f637b2-d852-4129-a6a1-c7ad5288a959",
   "metadata": {},
   "outputs": [],
   "source": [
    "movies.loc[0, 'overview']"
   ]
  },
  {
   "cell_type": "code",
   "execution_count": null,
   "id": "c8e1ae1c-adae-4c04-b034-92a3ef419df6",
   "metadata": {},
   "outputs": [],
   "source": [
    "wi = pd.DataFrame({\n",
    "    'Factor': ['Keywords', 'Genres', 'Overviews'],\n",
    "    'Num of Unique Words': [len(keyword_corpus), len(genres_corpus), len(overview_corpus)],\n",
    "})\n",
    "\n",
    "display(wi.style.hide_index())"
   ]
  },
  {
   "cell_type": "code",
   "execution_count": null,
   "id": "3724a2e0-8df7-4796-aaeb-9b0371c35fa7",
   "metadata": {},
   "outputs": [],
   "source": [
    "movies['keywords_len'] = movies['keywords_txt'].str.split().str.len()\n",
    "movies['genres_len'] = movies['genres_txt'].str.split().str.len()\n",
    "movies['overview_len'] = movies['overview'].str.split().str.len()"
   ]
  },
  {
   "cell_type": "code",
   "execution_count": null,
   "id": "77be63c3-20ff-4740-980f-052c54c876cf",
   "metadata": {},
   "outputs": [],
   "source": [
    "fig,ax = plt.subplots(1, 3, figsize=(12,4))\n",
    "\n",
    "movies.hist(column='keywords_len', bins=50, ax=ax[0])\n",
    "movies.hist(column='genres_len', bins=6, ax=ax[1])\n",
    "movies.hist(column='overview_len', bins=30, ax=ax[2])\n",
    "\n",
    "ax[0].set_title('Keywords')\n",
    "ax[1].set_title('Genres')\n",
    "_ = ax[2].set_title('Overview')"
   ]
  },
  {
   "cell_type": "markdown",
   "id": "a03253b1-69bb-4a01-9ed9-dd476ba76cc8",
   "metadata": {},
   "source": [
    "# Create our search terms"
   ]
  },
  {
   "cell_type": "code",
   "execution_count": null,
   "id": "3c782083-a71b-41b3-998d-c89da0647696",
   "metadata": {},
   "outputs": [],
   "source": [
    "user_input = 'alien sci-fi space horror'"
   ]
  },
  {
   "cell_type": "markdown",
   "id": "5280e190-4ab2-46fc-bacf-e87159f2ee49",
   "metadata": {},
   "source": [
    "# Word2Vec"
   ]
  },
  {
   "cell_type": "code",
   "execution_count": null,
   "id": "c040f453-a003-4b15-84d7-31afaf459d86",
   "metadata": {
    "collapsed": false,
    "jupyter": {
     "outputs_hidden": false
    }
   },
   "outputs": [],
   "source": [
    "if INSTALL:\n",
    "    !pip install gensim\n",
    "\n",
    "import gensim.downloader as api\n",
    "from gensim.models.keyedvectors import KeyedVectors"
   ]
  },
  {
   "cell_type": "code",
   "execution_count": null,
   "id": "e85a7837-a93e-427d-b4f5-12e2a2ad9eb4",
   "metadata": {
    "collapsed": false,
    "jupyter": {
     "outputs_hidden": false
    }
   },
   "outputs": [],
   "source": [
    "wv = api.load('word2vec-google-news-300')"
   ]
  },
  {
   "cell_type": "code",
   "execution_count": null,
   "id": "4e7b965f-8200-4412-bcc4-ae9d09c380b3",
   "metadata": {},
   "outputs": [],
   "source": [
    "def emb_line(txt, mod):\n",
    "    fill_array = np.zeros(mod.vector_size).astype('float32')\n",
    "    if txt:\n",
    "        emb = np.array([mod[kw] if kw in mod else fill_array for kw in txt.split()])\n",
    "        if emb.size == 0:\n",
    "            return fill_array\n",
    "        else:\n",
    "            return emb.mean(axis=0).astype('float32')\n",
    "    else:\n",
    "        return fill_array"
   ]
  },
  {
   "cell_type": "code",
   "execution_count": null,
   "id": "95c16c15-923a-4e28-9041-3cbfda7371a6",
   "metadata": {},
   "outputs": [],
   "source": [
    "%%time\n",
    "embed[('Word2Vec', 'keywords_emb')] = movies['keywords_txt'].astype('str').apply(emb_line, mod=wv)\n",
    "embed[('Word2Vec', 'genres_emb')] = movies['genres_txt'].astype('str').apply(emb_line, mod=wv)\n",
    "embed[('Word2Vec', 'overview_emb')] = movies['overview'].astype('str').apply(emb_line, mod=wv)"
   ]
  },
  {
   "cell_type": "code",
   "execution_count": null,
   "id": "0889d9ec-23c4-482e-ade0-d6bf9d675e98",
   "metadata": {},
   "outputs": [],
   "source": [
    "wv_inp = emb_line(user_input, mod=wv)"
   ]
  },
  {
   "cell_type": "code",
   "execution_count": null,
   "id": "a1b85233-681b-4ce3-bcb9-d729ea9af495",
   "metadata": {},
   "outputs": [],
   "source": [
    "embed[('Word2Vec', 'keyword_sim')] = util.cos_sim(wv_inp, embed[('Word2Vec', 'keywords_emb')]).numpy().squeeze()\n",
    "embed[('Word2Vec', 'genres_sim')] = util.cos_sim(wv_inp, embed[('Word2Vec', 'genres_emb')]).numpy().squeeze()\n",
    "embed[('Word2Vec', 'overview_sim')] = util.cos_sim(wv_inp, embed[('Word2Vec', 'overview_emb')]).numpy().squeeze()"
   ]
  },
  {
   "cell_type": "code",
   "execution_count": null,
   "id": "0911f0ab-338b-4d8e-b231-ada04d59e86a",
   "metadata": {},
   "outputs": [],
   "source": [
    "wv_kw = set([wd for wd in keyword_corpus if wd in wv])\n",
    "wv_ge = set([wd for wd in genres_corpus if wd in wv])\n",
    "wv_ov = set([wd for wd in overview_corpus if wd in wv])"
   ]
  },
  {
   "cell_type": "code",
   "execution_count": null,
   "id": "47a66302-e105-4fcc-b647-26f92d3c3eca",
   "metadata": {},
   "outputs": [],
   "source": [
    "wi['In Word2Vec'] = [len(wv_kw), len(wv_ge), len(wv_ov)]\n",
    "wi['Word2Vec%'] = [len(wv_kw)/len(keyword_corpus), len(wv_ge)/len(genres_corpus), len(wv_ov)/len(overview_corpus)]"
   ]
  },
  {
   "cell_type": "code",
   "execution_count": null,
   "id": "473abaa8-047d-4365-8bfd-c9d020987e72",
   "metadata": {},
   "outputs": [],
   "source": [
    "wi.style.format({'Word2Vec%' : '{:.1%}'}).hide_index()"
   ]
  },
  {
   "cell_type": "code",
   "execution_count": null,
   "id": "35d58282-3043-43bd-8bef-098773b10436",
   "metadata": {},
   "outputs": [],
   "source": [
    "embed.loc[:, [('title', ''), \n",
    "              ('Word2Vec', 'keyword_sim'), \n",
    "              ('Word2Vec', 'genres_sim'), \n",
    "              ('Word2Vec', 'overview_sim')]]\\\n",
    "    .nlargest(10, ('Word2Vec', 'keyword_sim'))\\\n",
    "    .style.background_gradient(vmin=-1.0, vmax=1.0)\\\n",
    "    .hide_index()"
   ]
  },
  {
   "cell_type": "markdown",
   "id": "03b0fdbd-91b7-41e8-aea2-4a9bdb94a554",
   "metadata": {},
   "source": [
    "# Glove"
   ]
  },
  {
   "cell_type": "code",
   "execution_count": null,
   "id": "f35c627e-ae53-43b2-9f65-79c3dedca717",
   "metadata": {},
   "outputs": [],
   "source": [
    "if INSTALL:\n",
    "    !curl.exe -o glove.6B.zip https://nlp.stanford.edu/data/glove.6B.zip"
   ]
  },
  {
   "cell_type": "code",
   "execution_count": null,
   "id": "857ee4cd-8c7e-45c5-8fb1-fe1802ef6c9b",
   "metadata": {},
   "outputs": [],
   "source": [
    "glove_model = KeyedVectors.load_word2vec_format(\"glove/glove.6B.50d.txt\", binary=False, no_header=True)"
   ]
  },
  {
   "cell_type": "code",
   "execution_count": null,
   "id": "a8705f12-835b-4d64-a3c6-9c3e1d767cad",
   "metadata": {},
   "outputs": [],
   "source": [
    "%%time\n",
    "embed[('Glove', 'keywords_emb')] = movies['keywords_txt'].astype('str').apply(emb_line, mod=glove_model)\n",
    "embed[('Glove', 'genres_emb')] = movies['genres_txt'].astype('str').apply(emb_line, mod=glove_model)\n",
    "embed[('Glove', 'overview_emb')] = movies['overview'].astype('str').apply(emb_line, mod=glove_model)"
   ]
  },
  {
   "cell_type": "code",
   "execution_count": null,
   "id": "61d4eab7-f657-489f-869b-b7e524162872",
   "metadata": {},
   "outputs": [],
   "source": [
    "glove_inp = emb_line(user_input, mod=glove_model)"
   ]
  },
  {
   "cell_type": "code",
   "execution_count": null,
   "id": "f259de0d-0cb2-4dbd-840a-0c53ab394867",
   "metadata": {},
   "outputs": [],
   "source": [
    "embed[('Glove', 'keyword_sim')] = util.cos_sim(glove_inp, embed[('Glove', 'keywords_emb')]).numpy().squeeze()\n",
    "embed[('Glove', 'genres_sim')] = util.cos_sim(glove_inp, embed[('Glove', 'genres_emb')]).numpy().squeeze()\n",
    "embed[('Glove', 'overview_sim')] = util.cos_sim(glove_inp, embed[('Glove', 'overview_emb')]).numpy().squeeze()"
   ]
  },
  {
   "cell_type": "code",
   "execution_count": null,
   "id": "630be1e1-2d57-4200-9d05-4890aac04e6f",
   "metadata": {},
   "outputs": [],
   "source": [
    "gl_kw = set([wd for wd in keyword_corpus if wd in glove_model])\n",
    "gl_ge = set([wd for wd in genres_corpus if wd in glove_model])\n",
    "gl_ov = set([wd for wd in overview_corpus if wd in glove_model])"
   ]
  },
  {
   "cell_type": "code",
   "execution_count": null,
   "id": "77e1c13f-1101-4d62-89be-64ed6d6d0c08",
   "metadata": {},
   "outputs": [],
   "source": [
    "wi['In Glove'] = [len(gl_kw), len(gl_ge), len(gl_ov)]\n",
    "wi['Glove%'] = [len(gl_kw)/len(keyword_corpus), len(gl_ge)/len(genres_corpus), len(gl_ov)/len(overview_corpus)]"
   ]
  },
  {
   "cell_type": "code",
   "execution_count": null,
   "id": "70c8c1bf-4d82-46d1-9c1d-e353ce060fa3",
   "metadata": {},
   "outputs": [],
   "source": [
    "wi.style.format({'Word2Vec%' : '{:.1%}', 'Glove%' : '{:.1%}'}).hide_index()"
   ]
  },
  {
   "cell_type": "code",
   "execution_count": null,
   "id": "817ddd35-6349-45c6-a937-2b03f645b348",
   "metadata": {},
   "outputs": [],
   "source": [
    "embed.loc[:, [('title', ''), \n",
    "              ('Word2Vec', 'keyword_sim'), \n",
    "              ('Word2Vec', 'genres_sim'), \n",
    "              ('Word2Vec', 'overview_sim'),\n",
    "              ('Glove', 'keyword_sim'), \n",
    "              ('Glove', 'genres_sim'), \n",
    "              ('Glove', 'overview_sim')]]\\\n",
    "    .nlargest(10, ('Glove', 'keyword_sim'))\\\n",
    "    .style.background_gradient(vmin=-1.0, vmax=1.0)\\\n",
    "    .hide_index()"
   ]
  },
  {
   "cell_type": "markdown",
   "id": "bb0e5b6e-7e7b-4294-a265-62e28c376a09",
   "metadata": {},
   "source": [
    "# Sentence Transformer (BERT)"
   ]
  },
  {
   "cell_type": "code",
   "execution_count": null,
   "id": "04f6ea04-df39-4f58-8ea1-c76b59aef65a",
   "metadata": {},
   "outputs": [],
   "source": [
    "from sentence_transformers import SentenceTransformer\n",
    "sentTrans = SentenceTransformer('paraphrase-MiniLM-L6-v2')"
   ]
  },
  {
   "cell_type": "code",
   "execution_count": null,
   "id": "d050b242-d0ad-419c-837d-be32684678ec",
   "metadata": {},
   "outputs": [],
   "source": [
    "%%time\n",
    "embed[('sentTrans', 'keywords_emb')] = list(sentTrans.encode(movies['keywords_txt'].astype('str')))\n",
    "embed[('sentTrans', 'genres_emb')] = list(sentTrans.encode(movies['genres_txt'].astype('str')))\n",
    "embed[('sentTrans', 'overview_emb')] = list(sentTrans.encode(movies['overview'].astype('str')))"
   ]
  },
  {
   "cell_type": "code",
   "execution_count": null,
   "id": "cee28fa6-99db-4519-b8e9-16a5dfbff565",
   "metadata": {},
   "outputs": [],
   "source": [
    "st_inp = sentTrans.encode(user_input)"
   ]
  },
  {
   "cell_type": "code",
   "execution_count": null,
   "id": "fe63cee2-d92a-4da0-b2ba-a40a6b8ec7f0",
   "metadata": {},
   "outputs": [],
   "source": [
    "embed[('sentTrans', 'keyword_sim')] = util.cos_sim(st_inp, embed[('sentTrans', 'keywords_emb')]).numpy().squeeze()\n",
    "embed[('sentTrans', 'genres_sim')] = util.cos_sim(st_inp, embed[('sentTrans', 'genres_emb')]).numpy().squeeze()\n",
    "embed[('sentTrans', 'overview_sim')] = util.cos_sim(st_inp, embed[('sentTrans', 'overview_emb')]).numpy().squeeze()"
   ]
  },
  {
   "cell_type": "code",
   "execution_count": null,
   "id": "c14c4146-2079-4e9c-af19-42566769c6e2",
   "metadata": {},
   "outputs": [],
   "source": [
    "wi['In SentenceTransformer'] = [len(keyword_corpus), len(genres_corpus), len(overview_corpus)]\n",
    "wi['SentenceTransformer%'] = [1.0, 1.0, 1.0]"
   ]
  },
  {
   "cell_type": "code",
   "execution_count": null,
   "id": "ca976e35-193b-4fc4-b088-4d1f61334f16",
   "metadata": {},
   "outputs": [],
   "source": [
    "wi.style.format({\n",
    "    'Word2Vec%': '{:.1%}',\n",
    "    'Glove%': '{:.1%}', \n",
    "    'SentenceTransformer%': '{:.1%}'}).hide_index()"
   ]
  },
  {
   "cell_type": "code",
   "execution_count": null,
   "id": "0dad2ac6-0ae0-466a-9c2f-c8c4550fa675",
   "metadata": {},
   "outputs": [],
   "source": [
    "embed.loc[:, [('title', ''), \n",
    "              ('Word2Vec', 'keyword_sim'), \n",
    "              ('Word2Vec', 'genres_sim'), \n",
    "              ('Word2Vec', 'overview_sim'),\n",
    "              ('Glove', 'keyword_sim'), \n",
    "              ('Glove', 'genres_sim'), \n",
    "              ('Glove', 'overview_sim'),\n",
    "              ('sentTrans', 'keyword_sim'), \n",
    "              ('sentTrans', 'genres_sim'), \n",
    "              ('sentTrans', 'overview_sim')]]\\\n",
    "    .nlargest(10, ('sentTrans', 'keyword_sim'))\\\n",
    "    .style.background_gradient(vmin=-1.0, vmax=1.0)\\\n",
    "    .hide_index()"
   ]
  },
  {
   "cell_type": "markdown",
   "id": "469172dc-f8c7-4125-a3e7-db2db1e41b88",
   "metadata": {},
   "source": [
    "# InferSent (Facebook)"
   ]
  },
  {
   "cell_type": "code",
   "execution_count": null,
   "id": "8864bd40-a8d9-497c-b326-5367a9f4ca7a",
   "metadata": {},
   "outputs": [],
   "source": [
    "if INSTALL:\n",
    "    !git clone https://github.com/facebookresearch/InferSent\n",
    "    !copy InferSent\\models.py ."
   ]
  },
  {
   "cell_type": "code",
   "execution_count": null,
   "id": "f12dcbf1-d745-4da3-9027-8c755e9d9218",
   "metadata": {},
   "outputs": [],
   "source": [
    "import nltk\n",
    "import torch\n",
    "nltk.download('punkt')"
   ]
  },
  {
   "cell_type": "code",
   "execution_count": null,
   "id": "bfdc8137-06e8-443b-98e8-0d38a9c7223a",
   "metadata": {},
   "outputs": [],
   "source": [
    "from models import InferSent\n",
    "V = 2\n",
    "MODEL_PATH = 'encoder/infersent%s.pkl' % V\n",
    "params_model = {'bsize': 64, 'word_emb_dim': 300, 'enc_lstm_dim': 2048,\n",
    "                'pool_type': 'max', 'dpout_model': 0.0, 'version': V}\n",
    "infersent = InferSent(params_model)\n",
    "infersent.load_state_dict(torch.load(MODEL_PATH))"
   ]
  },
  {
   "cell_type": "code",
   "execution_count": null,
   "id": "4b693995-4813-4881-b283-c52a54b5de57",
   "metadata": {},
   "outputs": [],
   "source": [
    "W2V_PATH = 'fastText/crawl-300d-2M.vec'\n",
    "infersent.set_w2v_path(W2V_PATH)"
   ]
  },
  {
   "cell_type": "code",
   "execution_count": null,
   "id": "14ef3868-d037-4e2c-8cc9-0f04c08cb815",
   "metadata": {},
   "outputs": [],
   "source": [
    "# infersent.build_vocab_k_words(K=400000)\n",
    "infersent.build_vocab(keyword_corpus | genres_corpus | overview_corpus)"
   ]
  },
  {
   "cell_type": "code",
   "execution_count": null,
   "id": "84b4c6af-dab5-4e58-ad83-84032aa5e1f1",
   "metadata": {},
   "outputs": [],
   "source": [
    "%%time\n",
    "embed[('InferSent', 'keywords_emb')] = list(infersent.encode(movies.loc[:, 'keywords_txt'].astype('str').values, tokenize=True))\n",
    "embed[('InferSent', 'genres_emb')] = list(infersent.encode(movies.loc[:, 'genres_txt'].astype('str').values, tokenize=True))\n",
    "embed[('InferSent', 'overview_emb')] = list(infersent.encode(movies.loc[:, 'overview'].astype('str').values, tokenize=True))"
   ]
  },
  {
   "cell_type": "code",
   "execution_count": null,
   "id": "8521894a-cf1e-4d0f-8e89-3f5c2c763ed3",
   "metadata": {},
   "outputs": [],
   "source": [
    "in_inp = infersent.encode(['alien sci-fi space horror'], tokenize=True)\n",
    "in_inp.shape"
   ]
  },
  {
   "cell_type": "code",
   "execution_count": null,
   "id": "732c9cc4-c511-4960-8896-6dbcbd63395e",
   "metadata": {},
   "outputs": [],
   "source": [
    "embed[('InferSent', 'keyword_sim')] = util.cos_sim(in_inp, embed[('InferSent', 'keywords_emb')]).numpy().squeeze()\n",
    "embed[('InferSent', 'genres_sim')] = util.cos_sim(in_inp, embed[('InferSent', 'genres_emb')]).numpy().squeeze()\n",
    "embed[('InferSent', 'overview_sim')] = util.cos_sim(in_inp, embed[('InferSent', 'overview_emb')]).numpy().squeeze()"
   ]
  },
  {
   "cell_type": "code",
   "execution_count": null,
   "id": "aa69e113-84fe-4ac2-acf6-6a55ede5af49",
   "metadata": {},
   "outputs": [],
   "source": [
    "%%time\n",
    "in_kw = set([wd for wd in keyword_corpus if wd in infersent.word_vec])\n",
    "in_ge = set([wd for wd in genres_corpus if wd in infersent.word_vec])\n",
    "in_ov = set([wd for wd in overview_corpus if wd in infersent.word_vec])"
   ]
  },
  {
   "cell_type": "code",
   "execution_count": null,
   "id": "c1096ec2-e5c2-4415-b46a-33881bedc814",
   "metadata": {},
   "outputs": [],
   "source": [
    "wi['In InferSent'] = [len(in_kw), len(in_ge), len(in_ov)]\n",
    "wi['InferSent%'] = [len(in_kw)/len(keyword_corpus), len(in_ge)/len(genres_corpus), len(in_ov)/len(overview_corpus)]"
   ]
  },
  {
   "cell_type": "code",
   "execution_count": null,
   "id": "4f746e21-6d89-4167-83a5-a11a9fc1214e",
   "metadata": {},
   "outputs": [],
   "source": [
    "wi.style.format({\n",
    "    'Word2Vec%': '{:.1%}',\n",
    "    'Glove%': '{:.1%}', \n",
    "    'SentenceTransformer%': '{:.1%}',\n",
    "    'InferSent%': '{:.1%}'}).hide_index()"
   ]
  },
  {
   "cell_type": "code",
   "execution_count": null,
   "id": "9a1fac8c-8a2e-4a3d-a307-b4b255ede684",
   "metadata": {},
   "outputs": [],
   "source": [
    "embed.loc[:, [('title', ''), \n",
    "              ('Word2Vec', 'keyword_sim'), \n",
    "              ('Word2Vec', 'genres_sim'), \n",
    "              ('Word2Vec', 'overview_sim'),\n",
    "              ('Glove', 'keyword_sim'), \n",
    "              ('Glove', 'genres_sim'), \n",
    "              ('Glove', 'overview_sim'),\n",
    "              ('sentTrans', 'keyword_sim'), \n",
    "              ('sentTrans', 'genres_sim'), \n",
    "              ('sentTrans', 'overview_sim'),\n",
    "              ('InferSent', 'keyword_sim'), \n",
    "              ('InferSent', 'genres_sim'), \n",
    "              ('InferSent', 'overview_sim')]]\\\n",
    "    .nlargest(10, ('InferSent', 'keyword_sim'))\\\n",
    "    .style.background_gradient(vmin=-1.0, vmax=1.0)\\\n",
    "    .hide_index()"
   ]
  },
  {
   "cell_type": "code",
   "execution_count": null,
   "id": "479f79ba-9de0-48b5-94be-73950126d492",
   "metadata": {},
   "outputs": [],
   "source": [
    "import sys"
   ]
  },
  {
   "cell_type": "code",
   "execution_count": null,
   "id": "ef24d174-9b4b-4cec-a09e-12a46bc8ad65",
   "metadata": {},
   "outputs": [],
   "source": [
    "objs = list(locals().items())\n",
    "myvars = pd.DataFrame({\n",
    "    'var': [var for var,_ in objs],\n",
    "    'size' : [sys.getsizeof(obj) for _,obj in objs]\n",
    "})\n",
    "\n",
    "myvars.sort_values('size', ascending=False)[:20]"
   ]
  }
 ],
 "metadata": {
  "kernelspec": {
   "display_name": "Python 3",
   "language": "python",
   "name": "python3"
  },
  "language_info": {
   "codemirror_mode": {
    "name": "ipython",
    "version": 3
   },
   "file_extension": ".py",
   "mimetype": "text/x-python",
   "name": "python",
   "nbconvert_exporter": "python",
   "pygments_lexer": "ipython3",
   "version": "3.9.5"
  }
 },
 "nbformat": 4,
 "nbformat_minor": 5
}
