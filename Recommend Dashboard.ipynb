{
 "cells": [
  {
   "cell_type": "code",
   "execution_count": null,
   "id": "448a48bf-6b23-42db-b81a-e43ed6dc57a6",
   "metadata": {},
   "outputs": [],
   "source": [
    "import json\n",
    "import pandas as pd\n",
    "import numpy as np\n",
    "\n",
    "from sentence_transformers import util"
   ]
  },
  {
   "cell_type": "markdown",
   "id": "f7a1956e-e6a1-422d-bd94-3fae5e07788f",
   "metadata": {},
   "source": [
    "# Data Load"
   ]
  },
  {
   "cell_type": "code",
   "execution_count": null,
   "id": "b214b617-0d61-4191-a560-55ca6905c444",
   "metadata": {},
   "outputs": [],
   "source": [
    "def load_tmdb_movies(path):\n",
    "    df = pd.read_csv(path)\n",
    "    df['release_date'] = pd.to_datetime(df['release_date']).apply(lambda x: x.date())\n",
    "    json_columns = ['genres', 'keywords', 'production_countries', 'production_companies', 'spoken_languages']\n",
    "    for column in json_columns:\n",
    "        df[column] = df[column].apply(json.loads)\n",
    "    return df\n",
    "\n",
    "\n",
    "def load_tmdb_credits(path):\n",
    "    df = pd.read_csv(path)\n",
    "    json_columns = ['cast', 'crew']\n",
    "    for column in json_columns:\n",
    "        df[column] = df[column].apply(json.loads)\n",
    "    return df"
   ]
  },
  {
   "cell_type": "code",
   "execution_count": null,
   "id": "57ef6539-f98a-4cfe-8224-6dc360a732df",
   "metadata": {},
   "outputs": [],
   "source": [
    "movies = load_tmdb_movies(\"./upload/tmdb_5000_movies.csv\")\n",
    "credits = load_tmdb_credits(\"./upload/tmdb_5000_credits.csv\")"
   ]
  },
  {
   "cell_type": "code",
   "execution_count": null,
   "id": "eec15e00-12a6-4919-bcd6-ca0cbcdfeac3",
   "metadata": {},
   "outputs": [],
   "source": [
    "movies.info()"
   ]
  },
  {
   "cell_type": "code",
   "execution_count": null,
   "id": "7ec2d548-f04f-47fe-ad3a-af6d7431ded1",
   "metadata": {},
   "outputs": [],
   "source": [
    "credits.info()"
   ]
  },
  {
   "cell_type": "code",
   "execution_count": null,
   "id": "7251e561-499b-42a1-8999-b744e9b9eb84",
   "metadata": {},
   "outputs": [],
   "source": [
    "movies[movies['overview'].isnull()]"
   ]
  },
  {
   "cell_type": "code",
   "execution_count": null,
   "id": "eb987c85-5a6e-4c81-be08-ad44c201d18e",
   "metadata": {},
   "outputs": [],
   "source": [
    "movies.loc[0]"
   ]
  },
  {
   "cell_type": "code",
   "execution_count": null,
   "id": "173aa2df-1f9f-4a7d-8c66-e2f07c7978a3",
   "metadata": {},
   "outputs": [],
   "source": [
    "movies['keywords_txt'] = movies.loc[:,'keywords'].apply(lambda x: ' '.join([d['name'] for d in x]))\n",
    "movies['genres_txt'] = movies.loc[:,'genres'].apply(lambda x: ' '.join([d['name'] for d in x]))"
   ]
  },
  {
   "cell_type": "code",
   "execution_count": null,
   "id": "9a31ff66-77d9-43af-a5e7-a0b889c5342d",
   "metadata": {},
   "outputs": [],
   "source": [
    "embed = movies.loc[:, ['id', 'title']].copy()\n",
    "embed.columns = pd.MultiIndex.from_tuples([('id', ''), ('title', '')])"
   ]
  },
  {
   "cell_type": "markdown",
   "id": "5280e190-4ab2-46fc-bacf-e87159f2ee49",
   "metadata": {},
   "source": [
    "# Word2Vec"
   ]
  },
  {
   "cell_type": "code",
   "execution_count": null,
   "id": "96cb701e-bd4a-4445-b4ce-518db9609e20",
   "metadata": {
    "collapsed": false,
    "jupyter": {
     "outputs_hidden": false
    }
   },
   "outputs": [],
   "source": [
    "import gensim.downloader as api\n",
    "wv = api.load('word2vec-google-news-300')"
   ]
  },
  {
   "cell_type": "code",
   "execution_count": null,
   "id": "810263f5-80f6-45ed-96a3-b37732048e4b",
   "metadata": {},
   "outputs": [],
   "source": [
    "def word2vecEmb(kws):\n",
    "    if kws:\n",
    "        emb = np.array([wv[kw] if kw in wv else np.zeros(300) for kw in kws.split()])\n",
    "        if emb.size == 0:\n",
    "            return np.zeros(300).astype('float32')\n",
    "        else:\n",
    "            return emb.mean(axis=0).astype('float32')\n",
    "    else:\n",
    "        return np.zeros(300).astype('float32')\n",
    "\n",
    "embed[('Word2Vec', 'keywords_emb')] = movies['keywords_txt'].astype('str').apply(word2vecEmb)\n",
    "embed[('Word2Vec', 'genres_emb')] = movies['genres_txt'].astype('str').apply(word2vecEmb)\n",
    "embed[('Word2Vec', 'overview_emb')] = movies['overview'].astype('str').apply(word2vecEmb)"
   ]
  },
  {
   "cell_type": "code",
   "execution_count": null,
   "id": "0889d9ec-23c4-482e-ade0-d6bf9d675e98",
   "metadata": {},
   "outputs": [],
   "source": [
    "inp = np.array([wv[kw] for kw in 'Alien sci-fi space horror'.split() if kw in wv]).mean(axis=0)\n",
    "inp.shape"
   ]
  },
  {
   "cell_type": "code",
   "execution_count": null,
   "id": "a1b85233-681b-4ce3-bcb9-d729ea9af495",
   "metadata": {},
   "outputs": [],
   "source": [
    "embed[('Word2Vec', 'keyword_sim')] = util.cos_sim(inp, embed[('Word2Vec', 'keywords_emb')]).numpy().squeeze()\n",
    "embed[('Word2Vec', 'genres_sim')] = util.cos_sim(inp, embed[('Word2Vec', 'genres_emb')]).numpy().squeeze()\n",
    "embed[('Word2Vec', 'overview_sim')] = util.cos_sim(inp, embed[('Word2Vec', 'overview_emb')]).numpy().squeeze()"
   ]
  },
  {
   "cell_type": "code",
   "execution_count": null,
   "id": "35d58282-3043-43bd-8bef-098773b10436",
   "metadata": {},
   "outputs": [],
   "source": [
    "embed.loc[:, [('title', ''), \n",
    "              ('Word2Vec', 'keyword_sim'), \n",
    "              ('Word2Vec', 'genres_sim'), \n",
    "              ('Word2Vec', 'overview_sim')]]\\\n",
    "    .nlargest(10, ('Word2Vec', 'keyword_sim'))\\\n",
    "    .style.background_gradient(vmin=-1.0, vmax=1.0)\\\n",
    "    .hide_index()"
   ]
  },
  {
   "cell_type": "markdown",
   "id": "bb0e5b6e-7e7b-4294-a265-62e28c376a09",
   "metadata": {},
   "source": [
    "# Sentence Transformer (BERT)"
   ]
  },
  {
   "cell_type": "code",
   "execution_count": null,
   "id": "04f6ea04-df39-4f58-8ea1-c76b59aef65a",
   "metadata": {},
   "outputs": [],
   "source": [
    "from sentence_transformers import SentenceTransformer\n",
    "sentTrans = SentenceTransformer('paraphrase-MiniLM-L6-v2')"
   ]
  },
  {
   "cell_type": "code",
   "execution_count": null,
   "id": "d050b242-d0ad-419c-837d-be32684678ec",
   "metadata": {},
   "outputs": [],
   "source": [
    "%%time\n",
    "embed[('sentTrans', 'keywords_emb')] = list(sentTrans.encode(movies['keywords_txt'].astype('str')))\n",
    "embed[('sentTrans', 'genres_emb')] = list(sentTrans.encode(movies['genres_txt'].astype('str')))\n",
    "embed[('sentTrans', 'overview_emb')] = list(sentTrans.encode(movies['overview'].astype('str')))"
   ]
  },
  {
   "cell_type": "code",
   "execution_count": null,
   "id": "cee28fa6-99db-4519-b8e9-16a5dfbff565",
   "metadata": {},
   "outputs": [],
   "source": [
    "inp = sentTrans.encode('Alien sci-fi space horror')"
   ]
  },
  {
   "cell_type": "code",
   "execution_count": null,
   "id": "fe63cee2-d92a-4da0-b2ba-a40a6b8ec7f0",
   "metadata": {},
   "outputs": [],
   "source": [
    "embed[('sentTrans', 'keyword_sim')] = util.cos_sim(inp, embed[('sentTrans', 'keywords_emb')]).numpy().squeeze()\n",
    "embed[('sentTrans', 'genres_sim')] = util.cos_sim(inp, embed[('sentTrans', 'genres_emb')]).numpy().squeeze()\n",
    "embed[('sentTrans', 'overview_sim')] = util.cos_sim(inp, embed[('sentTrans', 'overview_emb')]).numpy().squeeze()"
   ]
  },
  {
   "cell_type": "code",
   "execution_count": null,
   "id": "0dad2ac6-0ae0-466a-9c2f-c8c4550fa675",
   "metadata": {},
   "outputs": [],
   "source": [
    "embed.loc[:, [('title', ''), \n",
    "              ('Word2Vec', 'keyword_sim'), \n",
    "              ('Word2Vec', 'genres_sim'), \n",
    "              ('Word2Vec', 'overview_sim'),\n",
    "              ('sentTrans', 'keyword_sim'), \n",
    "              ('sentTrans', 'genres_sim'), \n",
    "              ('sentTrans', 'overview_sim')]]\\\n",
    "    .nlargest(10, ('sentTrans', 'keyword_sim'))\\\n",
    "    .style.background_gradient(vmin=-1.0, vmax=1.0)\\\n",
    "    .hide_index()"
   ]
  },
  {
   "cell_type": "markdown",
   "id": "469172dc-f8c7-4125-a3e7-db2db1e41b88",
   "metadata": {},
   "source": [
    "# InferSent (Facebook)"
   ]
  },
  {
   "cell_type": "code",
   "execution_count": null,
   "id": "8864bd40-a8d9-497c-b326-5367a9f4ca7a",
   "metadata": {},
   "outputs": [],
   "source": [
    "!git clone https://github.com/facebookresearch/InferSent\n",
    "!copy InferSent\\models.py ."
   ]
  },
  {
   "cell_type": "code",
   "execution_count": null,
   "id": "f12dcbf1-d745-4da3-9027-8c755e9d9218",
   "metadata": {},
   "outputs": [],
   "source": [
    "import nltk\n",
    "import torch\n",
    "nltk.download('punkt')"
   ]
  },
  {
   "cell_type": "code",
   "execution_count": null,
   "id": "bfdc8137-06e8-443b-98e8-0d38a9c7223a",
   "metadata": {},
   "outputs": [],
   "source": [
    "from models import InferSent\n",
    "V = 2\n",
    "MODEL_PATH = 'encoder/infersent%s.pkl' % V\n",
    "params_model = {'bsize': 64, 'word_emb_dim': 300, 'enc_lstm_dim': 2048,\n",
    "                'pool_type': 'max', 'dpout_model': 0.0, 'version': V}\n",
    "infersent = InferSent(params_model)\n",
    "infersent.load_state_dict(torch.load(MODEL_PATH))"
   ]
  },
  {
   "cell_type": "code",
   "execution_count": null,
   "id": "4b693995-4813-4881-b283-c52a54b5de57",
   "metadata": {},
   "outputs": [],
   "source": [
    "W2V_PATH = 'fastText/crawl-300d-2M.vec'\n",
    "infersent.set_w2v_path(W2V_PATH)"
   ]
  },
  {
   "cell_type": "code",
   "execution_count": null,
   "id": "14ef3868-d037-4e2c-8cc9-0f04c08cb815",
   "metadata": {},
   "outputs": [],
   "source": [
    "infersent.build_vocab_k_words(K=100000)"
   ]
  },
  {
   "cell_type": "code",
   "execution_count": null,
   "id": "84b4c6af-dab5-4e58-ad83-84032aa5e1f1",
   "metadata": {},
   "outputs": [],
   "source": [
    "%%time\n",
    "embed[('InferSent', 'keywords_emb')] = list(infersent.encode(movies.loc[:, 'keywords_txt'].astype('str').values, tokenize=True))\n",
    "embed[('InferSent', 'genres_emb')] = list(infersent.encode(movies.loc[:, 'genres_txt'].astype('str').values, tokenize=True))\n",
    "embed[('InferSent', 'overview_emb')] = list(infersent.encode(movies.loc[:, 'overview'].astype('str').values, tokenize=True))"
   ]
  },
  {
   "cell_type": "code",
   "execution_count": null,
   "id": "8521894a-cf1e-4d0f-8e89-3f5c2c763ed3",
   "metadata": {},
   "outputs": [],
   "source": [
    "inp = infersent.encode(['Alien sci-fi space horror'], tokenize=True)\n",
    "inp.shape"
   ]
  },
  {
   "cell_type": "code",
   "execution_count": null,
   "id": "732c9cc4-c511-4960-8896-6dbcbd63395e",
   "metadata": {},
   "outputs": [],
   "source": [
    "embed[('InferSent', 'keyword_sim')] = util.cos_sim(inp, embed[('InferSent', 'keywords_emb')]).numpy().squeeze()\n",
    "embed[('InferSent', 'genres_sim')] = util.cos_sim(inp, embed[('InferSent', 'genres_emb')]).numpy().squeeze()\n",
    "embed[('InferSent', 'overview_sim')] = util.cos_sim(inp, embed[('InferSent', 'overview_emb')]).numpy().squeeze()"
   ]
  },
  {
   "cell_type": "code",
   "execution_count": null,
   "id": "9a1fac8c-8a2e-4a3d-a307-b4b255ede684",
   "metadata": {},
   "outputs": [],
   "source": [
    "embed.loc[:, [('title', ''), \n",
    "              ('Word2Vec', 'keyword_sim'), \n",
    "              ('Word2Vec', 'genres_sim'), \n",
    "              ('Word2Vec', 'overview_sim'),\n",
    "              ('sentTrans', 'keyword_sim'), \n",
    "              ('sentTrans', 'genres_sim'), \n",
    "              ('sentTrans', 'overview_sim'),\n",
    "              ('InferSent', 'keyword_sim'), \n",
    "              ('InferSent', 'genres_sim'), \n",
    "              ('InferSent', 'overview_sim')]]\\\n",
    "    .nlargest(10, ('InferSent', 'keyword_sim'))\\\n",
    "    .style.background_gradient(vmin=-1.0, vmax=1.0)\\\n",
    "    .hide_index()"
   ]
  },
  {
   "cell_type": "code",
   "execution_count": null,
   "id": "e02c5745-f8c3-4d40-ba72-2acec59b5115",
   "metadata": {},
   "outputs": [],
   "source": []
  }
 ],
 "metadata": {
  "kernelspec": {
   "display_name": "Python 3",
   "language": "python",
   "name": "python3"
  },
  "language_info": {
   "codemirror_mode": {
    "name": "ipython",
    "version": 3
   },
   "file_extension": ".py",
   "mimetype": "text/x-python",
   "name": "python",
   "nbconvert_exporter": "python",
   "pygments_lexer": "ipython3",
   "version": "3.9.5"
  }
 },
 "nbformat": 4,
 "nbformat_minor": 5
}
