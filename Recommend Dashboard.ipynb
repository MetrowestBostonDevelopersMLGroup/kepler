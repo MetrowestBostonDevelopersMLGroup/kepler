{
 "cells": [
  {
   "cell_type": "code",
   "execution_count": 1,
   "id": "448a48bf-6b23-42db-b81a-e43ed6dc57a6",
   "metadata": {},
   "outputs": [],
   "source": [
    "import json\n",
    "import pandas as pd"
   ]
  },
  {
   "cell_type": "code",
   "execution_count": 2,
   "id": "b214b617-0d61-4191-a560-55ca6905c444",
   "metadata": {},
   "outputs": [],
   "source": [
    "def load_tmdb_movies(path):\n",
    "    df = pd.read_csv(path)\n",
    "    df['release_date'] = pd.to_datetime(df['release_date']).apply(lambda x: x.date())\n",
    "    json_columns = ['genres', 'keywords', 'production_countries', 'production_companies', 'spoken_languages']\n",
    "    for column in json_columns:\n",
    "        df[column] = df[column].apply(json.loads)\n",
    "    return df\n",
    "\n",
    "\n",
    "def load_tmdb_credits(path):\n",
    "    df = pd.read_csv(path)\n",
    "    json_columns = ['cast', 'crew']\n",
    "    for column in json_columns:\n",
    "        df[column] = df[column].apply(json.loads)\n",
    "    return df"
   ]
  },
  {
   "cell_type": "code",
   "execution_count": 27,
   "id": "57ef6539-f98a-4cfe-8224-6dc360a732df",
   "metadata": {},
   "outputs": [],
   "source": [
    "movies = load_tmdb_movies(\"./upload/tmdb_5000_movies.csv\")\n",
    "credits = load_tmdb_credits(\"./upload/tmdb_5000_credits.csv\")"
   ]
  },
  {
   "cell_type": "code",
   "execution_count": 28,
   "id": "eec15e00-12a6-4919-bcd6-ca0cbcdfeac3",
   "metadata": {},
   "outputs": [
    {
     "name": "stdout",
     "output_type": "stream",
     "text": [
      "<class 'pandas.core.frame.DataFrame'>\n",
      "RangeIndex: 4803 entries, 0 to 4802\n",
      "Data columns (total 20 columns):\n",
      " #   Column                Non-Null Count  Dtype  \n",
      "---  ------                --------------  -----  \n",
      " 0   budget                4803 non-null   int64  \n",
      " 1   genres                4803 non-null   object \n",
      " 2   homepage              1712 non-null   object \n",
      " 3   id                    4803 non-null   int64  \n",
      " 4   keywords              4803 non-null   object \n",
      " 5   original_language     4803 non-null   object \n",
      " 6   original_title        4803 non-null   object \n",
      " 7   overview              4800 non-null   object \n",
      " 8   popularity            4803 non-null   float64\n",
      " 9   production_companies  4803 non-null   object \n",
      " 10  production_countries  4803 non-null   object \n",
      " 11  release_date          4802 non-null   object \n",
      " 12  revenue               4803 non-null   int64  \n",
      " 13  runtime               4801 non-null   float64\n",
      " 14  spoken_languages      4803 non-null   object \n",
      " 15  status                4803 non-null   object \n",
      " 16  tagline               3959 non-null   object \n",
      " 17  title                 4803 non-null   object \n",
      " 18  vote_average          4803 non-null   float64\n",
      " 19  vote_count            4803 non-null   int64  \n",
      "dtypes: float64(3), int64(4), object(13)\n",
      "memory usage: 750.6+ KB\n"
     ]
    }
   ],
   "source": [
    "movies.info()"
   ]
  },
  {
   "cell_type": "code",
   "execution_count": 29,
   "id": "7ec2d548-f04f-47fe-ad3a-af6d7431ded1",
   "metadata": {},
   "outputs": [
    {
     "name": "stdout",
     "output_type": "stream",
     "text": [
      "<class 'pandas.core.frame.DataFrame'>\n",
      "RangeIndex: 4803 entries, 0 to 4802\n",
      "Data columns (total 4 columns):\n",
      " #   Column    Non-Null Count  Dtype \n",
      "---  ------    --------------  ----- \n",
      " 0   movie_id  4803 non-null   int64 \n",
      " 1   title     4803 non-null   object\n",
      " 2   cast      4803 non-null   object\n",
      " 3   crew      4803 non-null   object\n",
      "dtypes: int64(1), object(3)\n",
      "memory usage: 150.2+ KB\n"
     ]
    }
   ],
   "source": [
    "credits.info()"
   ]
  },
  {
   "cell_type": "code",
   "execution_count": 31,
   "id": "cd2496a4-e586-4fe5-b01e-4b36e7a65126",
   "metadata": {},
   "outputs": [
    {
     "name": "stdout",
     "output_type": "stream",
     "text": [
      "<class 'pandas.core.frame.DataFrame'>\n",
      "Int64Index: 4803 entries, 0 to 4802\n",
      "Data columns (total 7 columns):\n",
      " #   Column    Non-Null Count  Dtype \n",
      "---  ------    --------------  ----- \n",
      " 0   id        4803 non-null   int64 \n",
      " 1   genres    4803 non-null   object\n",
      " 2   overview  4800 non-null   object\n",
      " 3   title     4803 non-null   object\n",
      " 4   cast      4803 non-null   object\n",
      " 5   crew      4803 non-null   object\n",
      " 6   combine   4803 non-null   object\n",
      "dtypes: int64(1), object(6)\n",
      "memory usage: 300.2+ KB\n"
     ]
    }
   ],
   "source": [
    "working = pd.read_csv(\"./upload/working_tmdb_5000_movies.csv\", index_col=0)\n",
    "working.info()"
   ]
  },
  {
   "cell_type": "code",
   "execution_count": 32,
   "id": "7251e561-499b-42a1-8999-b744e9b9eb84",
   "metadata": {},
   "outputs": [
    {
     "data": {
      "text/html": [
       "<div>\n",
       "<style scoped>\n",
       "    .dataframe tbody tr th:only-of-type {\n",
       "        vertical-align: middle;\n",
       "    }\n",
       "\n",
       "    .dataframe tbody tr th {\n",
       "        vertical-align: top;\n",
       "    }\n",
       "\n",
       "    .dataframe thead th {\n",
       "        text-align: right;\n",
       "    }\n",
       "</style>\n",
       "<table border=\"1\" class=\"dataframe\">\n",
       "  <thead>\n",
       "    <tr style=\"text-align: right;\">\n",
       "      <th></th>\n",
       "      <th>budget</th>\n",
       "      <th>genres</th>\n",
       "      <th>homepage</th>\n",
       "      <th>id</th>\n",
       "      <th>keywords</th>\n",
       "      <th>original_language</th>\n",
       "      <th>original_title</th>\n",
       "      <th>overview</th>\n",
       "      <th>popularity</th>\n",
       "      <th>production_companies</th>\n",
       "      <th>production_countries</th>\n",
       "      <th>release_date</th>\n",
       "      <th>revenue</th>\n",
       "      <th>runtime</th>\n",
       "      <th>spoken_languages</th>\n",
       "      <th>status</th>\n",
       "      <th>tagline</th>\n",
       "      <th>title</th>\n",
       "      <th>vote_average</th>\n",
       "      <th>vote_count</th>\n",
       "    </tr>\n",
       "  </thead>\n",
       "  <tbody>\n",
       "    <tr>\n",
       "      <th>2656</th>\n",
       "      <td>15000000</td>\n",
       "      <td>[{'id': 18, 'name': 'Drama'}]</td>\n",
       "      <td>NaN</td>\n",
       "      <td>370980</td>\n",
       "      <td>[{'id': 717, 'name': 'pope'}, {'id': 5565, 'na...</td>\n",
       "      <td>it</td>\n",
       "      <td>Chiamatemi Francesco - Il Papa della gente</td>\n",
       "      <td>NaN</td>\n",
       "      <td>0.738646</td>\n",
       "      <td>[{'name': 'Taodue Film', 'id': 45724}]</td>\n",
       "      <td>[{'iso_3166_1': 'IT', 'name': 'Italy'}]</td>\n",
       "      <td>2015-12-03</td>\n",
       "      <td>0</td>\n",
       "      <td>NaN</td>\n",
       "      <td>[{'iso_639_1': 'es', 'name': 'Español'}]</td>\n",
       "      <td>Released</td>\n",
       "      <td>NaN</td>\n",
       "      <td>Chiamatemi Francesco - Il Papa della gente</td>\n",
       "      <td>7.3</td>\n",
       "      <td>12</td>\n",
       "    </tr>\n",
       "    <tr>\n",
       "      <th>4140</th>\n",
       "      <td>2</td>\n",
       "      <td>[{'id': 99, 'name': 'Documentary'}]</td>\n",
       "      <td>NaN</td>\n",
       "      <td>459488</td>\n",
       "      <td>[{'id': 6027, 'name': 'music'}, {'id': 225822,...</td>\n",
       "      <td>en</td>\n",
       "      <td>To Be Frank, Sinatra at 100</td>\n",
       "      <td>NaN</td>\n",
       "      <td>0.050625</td>\n",
       "      <td>[{'name': 'Eyeline Entertainment', 'id': 60343}]</td>\n",
       "      <td>[{'iso_3166_1': 'GB', 'name': 'United Kingdom'}]</td>\n",
       "      <td>2015-12-12</td>\n",
       "      <td>0</td>\n",
       "      <td>NaN</td>\n",
       "      <td>[]</td>\n",
       "      <td>Released</td>\n",
       "      <td>NaN</td>\n",
       "      <td>To Be Frank, Sinatra at 100</td>\n",
       "      <td>0.0</td>\n",
       "      <td>0</td>\n",
       "    </tr>\n",
       "    <tr>\n",
       "      <th>4431</th>\n",
       "      <td>913000</td>\n",
       "      <td>[{'id': 99, 'name': 'Documentary'}]</td>\n",
       "      <td>NaN</td>\n",
       "      <td>292539</td>\n",
       "      <td>[]</td>\n",
       "      <td>de</td>\n",
       "      <td>Food Chains</td>\n",
       "      <td>NaN</td>\n",
       "      <td>0.795698</td>\n",
       "      <td>[]</td>\n",
       "      <td>[]</td>\n",
       "      <td>2014-04-26</td>\n",
       "      <td>0</td>\n",
       "      <td>83.0</td>\n",
       "      <td>[{'iso_639_1': 'en', 'name': 'English'}]</td>\n",
       "      <td>Released</td>\n",
       "      <td>NaN</td>\n",
       "      <td>Food Chains</td>\n",
       "      <td>7.4</td>\n",
       "      <td>8</td>\n",
       "    </tr>\n",
       "  </tbody>\n",
       "</table>\n",
       "</div>"
      ],
      "text/plain": [
       "        budget                               genres homepage      id  \\\n",
       "2656  15000000        [{'id': 18, 'name': 'Drama'}]      NaN  370980   \n",
       "4140         2  [{'id': 99, 'name': 'Documentary'}]      NaN  459488   \n",
       "4431    913000  [{'id': 99, 'name': 'Documentary'}]      NaN  292539   \n",
       "\n",
       "                                               keywords original_language  \\\n",
       "2656  [{'id': 717, 'name': 'pope'}, {'id': 5565, 'na...                it   \n",
       "4140  [{'id': 6027, 'name': 'music'}, {'id': 225822,...                en   \n",
       "4431                                                 []                de   \n",
       "\n",
       "                                  original_title overview  popularity  \\\n",
       "2656  Chiamatemi Francesco - Il Papa della gente      NaN    0.738646   \n",
       "4140                 To Be Frank, Sinatra at 100      NaN    0.050625   \n",
       "4431                                 Food Chains      NaN    0.795698   \n",
       "\n",
       "                                  production_companies  \\\n",
       "2656            [{'name': 'Taodue Film', 'id': 45724}]   \n",
       "4140  [{'name': 'Eyeline Entertainment', 'id': 60343}]   \n",
       "4431                                                []   \n",
       "\n",
       "                                  production_countries release_date  revenue  \\\n",
       "2656           [{'iso_3166_1': 'IT', 'name': 'Italy'}]   2015-12-03        0   \n",
       "4140  [{'iso_3166_1': 'GB', 'name': 'United Kingdom'}]   2015-12-12        0   \n",
       "4431                                                []   2014-04-26        0   \n",
       "\n",
       "      runtime                          spoken_languages    status tagline  \\\n",
       "2656      NaN  [{'iso_639_1': 'es', 'name': 'Español'}]  Released     NaN   \n",
       "4140      NaN                                        []  Released     NaN   \n",
       "4431     83.0  [{'iso_639_1': 'en', 'name': 'English'}]  Released     NaN   \n",
       "\n",
       "                                           title  vote_average  vote_count  \n",
       "2656  Chiamatemi Francesco - Il Papa della gente           7.3          12  \n",
       "4140                 To Be Frank, Sinatra at 100           0.0           0  \n",
       "4431                                 Food Chains           7.4           8  "
      ]
     },
     "execution_count": 32,
     "metadata": {},
     "output_type": "execute_result"
    }
   ],
   "source": [
    "movies[movies['overview'].isnull()]"
   ]
  },
  {
   "cell_type": "code",
   "execution_count": 33,
   "id": "cc68cea1-f9ea-43b4-bcd5-67d2bc4ba343",
   "metadata": {},
   "outputs": [
    {
     "data": {
      "text/html": [
       "<div>\n",
       "<style scoped>\n",
       "    .dataframe tbody tr th:only-of-type {\n",
       "        vertical-align: middle;\n",
       "    }\n",
       "\n",
       "    .dataframe tbody tr th {\n",
       "        vertical-align: top;\n",
       "    }\n",
       "\n",
       "    .dataframe thead th {\n",
       "        text-align: right;\n",
       "    }\n",
       "</style>\n",
       "<table border=\"1\" class=\"dataframe\">\n",
       "  <thead>\n",
       "    <tr style=\"text-align: right;\">\n",
       "      <th></th>\n",
       "      <th>movie_id</th>\n",
       "      <th>title</th>\n",
       "      <th>cast</th>\n",
       "      <th>crew</th>\n",
       "    </tr>\n",
       "  </thead>\n",
       "  <tbody>\n",
       "  </tbody>\n",
       "</table>\n",
       "</div>"
      ],
      "text/plain": [
       "Empty DataFrame\n",
       "Columns: [movie_id, title, cast, crew]\n",
       "Index: []"
      ]
     },
     "execution_count": 33,
     "metadata": {},
     "output_type": "execute_result"
    }
   ],
   "source": [
    "credits[credits['movie_id'].isin(working[working['crew'].isnull()]['id'])]"
   ]
  },
  {
   "cell_type": "code",
   "execution_count": 34,
   "id": "eb987c85-5a6e-4c81-be08-ad44c201d18e",
   "metadata": {},
   "outputs": [
    {
     "data": {
      "text/plain": [
       "budget                                                          237000000\n",
       "genres                  [{'id': 28, 'name': 'Action'}, {'id': 12, 'nam...\n",
       "homepage                                      http://www.avatarmovie.com/\n",
       "id                                                                  19995\n",
       "keywords                [{'id': 1463, 'name': 'culture clash'}, {'id':...\n",
       "original_language                                                      en\n",
       "original_title                                                     Avatar\n",
       "overview                In the 22nd century, a paraplegic Marine is di...\n",
       "popularity                                                     150.437577\n",
       "production_companies    [{'name': 'Ingenious Film Partners', 'id': 289...\n",
       "production_countries    [{'iso_3166_1': 'US', 'name': 'United States o...\n",
       "release_date                                                   2009-12-10\n",
       "revenue                                                        2787965087\n",
       "runtime                                                             162.0\n",
       "spoken_languages        [{'iso_639_1': 'en', 'name': 'English'}, {'iso...\n",
       "status                                                           Released\n",
       "tagline                                       Enter the World of Pandora.\n",
       "title                                                              Avatar\n",
       "vote_average                                                          7.2\n",
       "vote_count                                                          11800\n",
       "Name: 0, dtype: object"
      ]
     },
     "execution_count": 34,
     "metadata": {},
     "output_type": "execute_result"
    }
   ],
   "source": [
    "movies.loc[0]"
   ]
  },
  {
   "cell_type": "code",
   "execution_count": 35,
   "id": "3b61927d-6bed-40e3-8f85-afe45b5e4cb8",
   "metadata": {},
   "outputs": [
    {
     "data": {
      "text/plain": [
       "id                                                      19995\n",
       "genres                     ['Action', 'Adventure', 'Fantasy']\n",
       "overview    In the 22nd century, a paraplegic Marine is di...\n",
       "title                                                  Avatar\n",
       "cast        ['Sam Worthington', 'Zoe Saldana', 'Sigourney ...\n",
       "crew        [{\"credit_id\": \"52fe48009251416c750aca23\", \"de...\n",
       "combine     ['Sam Worthington', 'Zoe Saldana', 'Sigourney ...\n",
       "Name: 0, dtype: object"
      ]
     },
     "execution_count": 35,
     "metadata": {},
     "output_type": "execute_result"
    }
   ],
   "source": [
    "working.loc[0]"
   ]
  },
  {
   "cell_type": "code",
   "execution_count": 41,
   "id": "cded3c26-1578-43ae-8dab-65c023b4c6f7",
   "metadata": {},
   "outputs": [
    {
     "data": {
      "text/plain": [
       "['culture clash',\n",
       " 'future',\n",
       " 'space war',\n",
       " 'space colony',\n",
       " 'society',\n",
       " 'space travel',\n",
       " 'futuristic',\n",
       " 'romance',\n",
       " 'space',\n",
       " 'alien',\n",
       " 'tribe',\n",
       " 'alien planet',\n",
       " 'cgi',\n",
       " 'marine',\n",
       " 'soldier',\n",
       " 'battle',\n",
       " 'love affair',\n",
       " 'anti war',\n",
       " 'power relations',\n",
       " 'mind and soul',\n",
       " '3d']"
      ]
     },
     "execution_count": 41,
     "metadata": {},
     "output_type": "execute_result"
    }
   ],
   "source": [
    "[key['name'] for key in movies.loc[0, 'keywords']]"
   ]
  }
 ],
 "metadata": {
  "kernelspec": {
   "display_name": "Python 3",
   "language": "python",
   "name": "python3"
  },
  "language_info": {
   "codemirror_mode": {
    "name": "ipython",
    "version": 3
   },
   "file_extension": ".py",
   "mimetype": "text/x-python",
   "name": "python",
   "nbconvert_exporter": "python",
   "pygments_lexer": "ipython3",
   "version": "3.9.5"
  }
 },
 "nbformat": 4,
 "nbformat_minor": 5
}
